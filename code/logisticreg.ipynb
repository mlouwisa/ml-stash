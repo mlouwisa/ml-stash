{
 "cells": [
  {
   "cell_type": "markdown",
   "id": "1bedfb45-211b-42c0-9c30-cc6bcbe69e5d",
   "metadata": {},
   "source": [
    "### Load Dataset in Jupyter Notebook"
   ]
  },
  {
   "cell_type": "code",
   "execution_count": 11,
   "id": "bb5fe862-432d-4b21-ac0a-9df7de80fa2d",
   "metadata": {},
   "outputs": [],
   "source": [
    "import pandas as pd\n",
    "import numpy as np\n",
    "import pandas as pd\n",
    "\n",
    "# Load the dataset\n",
    "data = pd.read_csv('student_pass.csv')\n",
    "print(data.head())"
   ]
  },
  {
   "cell_type": "markdown",
   "id": "e8e6bbf4-311f-45ed-8320-9d5612ab47ac",
   "metadata": {},
   "source": [
    "### Visualize the Data"
   ]
  },
  {
   "cell_type": "code",
   "execution_count": 33,
   "id": "b2e8b68a-877f-444a-b94b-e5219dd05a2b",
   "metadata": {},
   "outputs": [],
   "source": [
    "import matplotlib.pyplot as plt\n",
    "\n",
    "# Scatter plot of Hours Studied vs. Passed\n",
    "plt.scatter(data['Hours Studied'], data['Passed'], color='blue')\n",
    "plt.xlabel('Hours Studied')\n",
    "plt.ylabel('Passed (1 = Yes, 0 = No)')\n",
    "plt.title('Pass Status vs. Study Hours')\n",
    "plt.show()"
   ]
  },
  {
   "cell_type": "markdown",
   "id": "e0df14c7-74b9-4bad-9305-ce631bcfb430",
   "metadata": {},
   "source": [
    "### Implement Logistic Regression"
   ]
  },
  {
   "cell_type": "code",
   "execution_count": 25,
   "id": "af952b9c-320a-455c-a3e5-affcddfc4f69",
   "metadata": {},
   "outputs": [],
   "source": [
    "from sklearn.model_selection import train_test_split\n",
    "from sklearn.linear_model import LogisticRegression\n",
    "from sklearn.metrics import accuracy_score\n",
    "\n",
    "# Split data into features and labels\n",
    "X = data[['Hours Studied']]\n",
    "y = data['Passed']\n",
    "\n",
    "# Split into training and testing sets\n",
    "X_train, X_test, y_train, y_test = train_test_split(X, y, test_size=0.2, random_state=42)\n",
    "\n",
    "# Create and train the logistic regression model\n",
    "model = LogisticRegression()\n",
    "model.fit(X_train, y_train)\n",
    "\n",
    "# Predict the test set\n",
    "y_pred = model.predict(X_test)\n",
    "\n",
    "# Evaluate accuracy\n",
    "accuracy = accuracy_score(y_test, y_pred)\n",
    "print(f'Accuracy: {accuracy * 100:.2f}%')"
   ]
  },
  {
   "cell_type": "markdown",
   "id": "9df8846f-9cf8-40ed-b7f4-c9b85fa8b4db",
   "metadata": {},
   "source": [
    "### Visualize the Logistic Curve"
   ]
  },
  {
   "cell_type": "code",
   "execution_count": 44,
   "id": "2945963a-3229-4f8a-9007-0ccec54eab3c",
   "metadata": {},
   "outputs": [],
   "source": [
    "import numpy as np\n",
    "\n",
    "# Generate values for hours to predict\n",
    "hours = np.linspace(0, 12, 100).reshape(-1, 1)\n",
    "\n",
    "# Predict probabilities\n",
    "predicted_probabilities = model.predict_proba(hours)[:, 1]\n",
    "\n",
    "# Plot the logistic regression curve\n",
    "plt.scatter(data['Hours Studied'], data['Passed'], color='blue', label='Data')\n",
    "plt.plot(hours, predicted_probabilities, color='red', label='Logistic Curve')\n",
    "plt.xlabel('Hours Studied')\n",
    "plt.ylabel('Probability of Passing')\n",
    "plt.title('Logistic Regression Curve')\n",
    "plt.legend()\n",
    "plt.show()\n"
   ]
  },
  {
   "cell_type": "markdown",
   "id": "b918b482-a60f-47e7-a2e9-eb9100e490bc",
   "metadata": {},
   "source": [
    "### Make Predictions"
   ]
  },
  {
   "cell_type": "code",
   "execution_count": 49,
   "id": "1f6e167d-3666-4970-a92f-16fdde3cb6ad",
   "metadata": {},
   "outputs": [],
   "source": [
    "# Predict for a specific number of hours\n",
    "new_hours = [[3], [7], [10]]  # You can change these values\n",
    "predictions = model.predict(new_hours)\n",
    "for hour, pred in zip(new_hours, predictions):\n",
    "    print(f\"Hours Studied: {hour[0]} -> Predicted Pass: {pred}\")\n"
   ]
  },
  {
   "cell_type": "code",
   "execution_count": null,
   "id": "374e4cd1-564b-4ee4-8503-f335139fe076",
   "metadata": {},
   "outputs": [],
   "source": []
  }
 ],
 "metadata": {
  "kernelspec": {
   "display_name": "Python 3 (ipykernel)",
   "language": "python",
   "name": "python3"
  },
  "language_info": {
   "codemirror_mode": {
    "name": "ipython",
    "version": 3
   },
   "file_extension": ".py",
   "mimetype": "text/x-python",
   "name": "python",
   "nbconvert_exporter": "python",
   "pygments_lexer": "ipython3",
   "version": "3.12.4"
  }
 },
 "nbformat": 4,
 "nbformat_minor": 5
}
